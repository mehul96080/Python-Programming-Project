{
 "cells": [
  {
   "cell_type": "code",
   "execution_count": 1,
   "id": "9b23ef0b-1845-46ca-b13e-22b56739efc5",
   "metadata": {},
   "outputs": [],
   "source": [
    "import pandas as pd\n",
    "import json\n",
    "\n",
    "#Reading the json file and parsing the data\n",
    "file = open('employee.json', 'r')\n",
    "data = json.load(file)\n",
    "data = data['objects']\n"
   ]
  },
  {
   "cell_type": "code",
   "execution_count": 2,
   "id": "832e2fd3-3c5b-4363-8294-916e66dcf739",
   "metadata": {},
   "outputs": [],
   "source": [
    "df = pd.DataFrame(data)"
   ]
  },
  {
   "cell_type": "code",
   "execution_count": 3,
   "id": "e966fee9-7da4-4669-8dc1-a1262e16d8a6",
   "metadata": {},
   "outputs": [
    {
     "data": {
      "text/html": [
       "<div>\n",
       "<style scoped>\n",
       "    .dataframe tbody tr th:only-of-type {\n",
       "        vertical-align: middle;\n",
       "    }\n",
       "\n",
       "    .dataframe tbody tr th {\n",
       "        vertical-align: top;\n",
       "    }\n",
       "\n",
       "    .dataframe thead th {\n",
       "        text-align: right;\n",
       "    }\n",
       "</style>\n",
       "<table border=\"1\" class=\"dataframe\">\n",
       "  <thead>\n",
       "    <tr style=\"text-align: right;\">\n",
       "      <th></th>\n",
       "      <th>ID</th>\n",
       "      <th>JobTitle</th>\n",
       "      <th>EmailAddress</th>\n",
       "      <th>FirstNameLastName</th>\n",
       "      <th>vaccinated</th>\n",
       "    </tr>\n",
       "  </thead>\n",
       "  <tbody>\n",
       "    <tr>\n",
       "      <th>7</th>\n",
       "      <td>8</td>\n",
       "      <td>Audiologist</td>\n",
       "      <td>Michaela_Little1010@yahoo.com</td>\n",
       "      <td>Michaela Little</td>\n",
       "      <td>True</td>\n",
       "    </tr>\n",
       "  </tbody>\n",
       "</table>\n",
       "</div>"
      ],
      "text/plain": [
       "   ID     JobTitle                   EmailAddress FirstNameLastName vaccinated\n",
       "7   8  Audiologist  Michaela_Little1010@yahoo.com   Michaela Little       True"
      ]
     },
     "execution_count": 3,
     "metadata": {},
     "output_type": "execute_result"
    }
   ],
   "source": [
    "#the employee whose id is 8.\n",
    "\n",
    "df['ID'] = df['ID'].astype(int)\n",
    "df[df['ID'] == 8]"
   ]
  },
  {
   "cell_type": "code",
   "execution_count": 4,
   "id": "7611b32a-26ac-4e42-8d55-0844a87141e6",
   "metadata": {},
   "outputs": [
    {
     "data": {
      "text/plain": [
       "['ID', 'JobTitle', 'EmailAddress', 'FirstNameLastName', 'vaccinated']"
      ]
     },
     "execution_count": 4,
     "metadata": {},
     "output_type": "execute_result"
    }
   ],
   "source": [
    "#storing the headers (column names) in a separate list\n",
    "\n",
    "headers = df.columns.tolist()\n",
    "headers"
   ]
  },
  {
   "cell_type": "code",
   "execution_count": 5,
   "id": "7652dae8-2281-4da4-865d-d13db5840996",
   "metadata": {},
   "outputs": [
    {
     "name": "stdout",
     "output_type": "stream",
     "text": [
      "Table 'employee' created successfully.\n"
     ]
    }
   ],
   "source": [
    "\n",
    "import sqlite3\n",
    "\n",
    "# create a DB\n",
    "connection = sqlite3.connect('data.db')\n",
    "\n",
    "# creating a cursor object\n",
    "cursor = connection.cursor()\n",
    "\n",
    "# Create table\n",
    "create_table = f\"CREATE TABLE IF NOT EXISTS employee ({', '.join(headers)})\"\n",
    "cursor.execute(create_table)\n",
    "\n",
    "# Commit changes and close connection\n",
    "connection.commit()\n",
    "connection.close()\n",
    "\n",
    "print(\"Table 'employee' created successfully.\")"
   ]
  },
  {
   "cell_type": "code",
   "execution_count": 6,
   "id": "74cf6b13-0b45-41cf-92f3-55434da82b0d",
   "metadata": {},
   "outputs": [
    {
     "name": "stdout",
     "output_type": "stream",
     "text": [
      "Data inserted into 'employee' table.\n"
     ]
    }
   ],
   "source": [
    "# Convert data into nested list\n",
    "nested_data = [[employee[col] for col in headers] for employee in data]\n",
    "\n",
    "# Establish connection again\n",
    "connection = sqlite3.connect('data.db')\n",
    "cursor = connection.cursor()\n",
    "\n",
    "# Insert data into table\n",
    "insert_query = f\"INSERT INTO employee ({', '.join(headers)}) VALUES ({', '.join(['?']*len(headers))})\"\n",
    "cursor.executemany(insert_query, nested_data)\n",
    "\n",
    "# Commit changes and close connection\n",
    "connection.commit()\n",
    "connection.close()\n",
    "\n",
    "print(\"Data inserted into 'employee' table.\")"
   ]
  },
  {
   "cell_type": "code",
   "execution_count": 7,
   "id": "1e8307f4-4c08-4d2a-bfce-1c0dcc123aa6",
   "metadata": {},
   "outputs": [
    {
     "name": "stdout",
     "output_type": "stream",
     "text": [
      "Data read into pandas DataFrame:\n",
      "  ID          JobTitle                    EmailAddress FirstNameLastName  \\\n",
      "0  1          Designer      Leroy_Yarlett52@guentu.biz     Leroy Yarlett   \n",
      "1  2         Webmaster  Julian_Gonzales8496@famism.biz   Julian Gonzales   \n",
      "2  3         Paramedic    George_Porter6363@deons.tech     George Porter   \n",
      "3  4  IT Support Staff   Penny_Reynolds8665@supunk.biz    Penny Reynolds   \n",
      "4  5           Dentist    Gabriel_Upton1432@bungar.biz     Gabriel Upton   \n",
      "\n",
      "  vaccinated  \n",
      "0      False  \n",
      "1       True  \n",
      "2      False  \n",
      "3      False  \n",
      "4       True  \n"
     ]
    }
   ],
   "source": [
    "# Connect to database and fetch data\n",
    "connection = sqlite3.connect('data.db')\n",
    "query = \"SELECT * FROM employee\"\n",
    "df = pd.read_sql_query(query, connection)\n",
    "\n",
    "# Close connection\n",
    "connection.close()\n",
    "\n",
    "print(\"Data read into pandas DataFrame:\")\n",
    "print(df.head())"
   ]
  },
  {
   "cell_type": "code",
   "execution_count": 8,
   "id": "db6eef05-c246-43cc-b2a9-8a9551b3f44b",
   "metadata": {},
   "outputs": [
    {
     "name": "stdout",
     "output_type": "stream",
     "text": [
      "DataFrame with bonus percent column added:\n",
      "  ID          JobTitle                    EmailAddress FirstNameLastName  \\\n",
      "0  1          Designer      Leroy_Yarlett52@guentu.biz     Leroy Yarlett   \n",
      "1  2         Webmaster  Julian_Gonzales8496@famism.biz   Julian Gonzales   \n",
      "2  3         Paramedic    George_Porter6363@deons.tech     George Porter   \n",
      "3  4  IT Support Staff   Penny_Reynolds8665@supunk.biz    Penny Reynolds   \n",
      "4  5           Dentist    Gabriel_Upton1432@bungar.biz     Gabriel Upton   \n",
      "\n",
      "  vaccinated  bonus percent  \n",
      "0      False              5  \n",
      "1       True             15  \n",
      "2      False              5  \n",
      "3      False              5  \n",
      "4       True             15  \n"
     ]
    }
   ],
   "source": [
    "# Adding bonus for vaccinated employees\n",
    "def calculate_bonus(vaccinated):\n",
    "    return 15 if vaccinated == 'True' else 5\n",
    "\n",
    "#create new column\n",
    "df['bonus percent'] = df['vaccinated'].apply(calculate_bonus)\n",
    "\n",
    "print(\"DataFrame with bonus percent column added:\")\n",
    "print(df.head())"
   ]
  },
  {
   "cell_type": "code",
   "execution_count": 9,
   "id": "a8ecdc55-f649-4a28-9ebf-0a175a077bfe",
   "metadata": {},
   "outputs": [
    {
     "name": "stdout",
     "output_type": "stream",
     "text": [
      "DataFrame exported to employee.xlsx.\n"
     ]
    }
   ],
   "source": [
    "#Exporting custom data into excel  \n",
    "excel_file = 'employee.xlsx'\n",
    "df.to_excel(excel_file, index=False)\n",
    "\n",
    "print(f\"DataFrame exported to {excel_file}.\")"
   ]
  }
 ],
 "metadata": {
  "kernelspec": {
   "display_name": "Python 3 (ipykernel)",
   "language": "python",
   "name": "python3"
  },
  "language_info": {
   "codemirror_mode": {
    "name": "ipython",
    "version": 3
   },
   "file_extension": ".py",
   "mimetype": "text/x-python",
   "name": "python",
   "nbconvert_exporter": "python",
   "pygments_lexer": "ipython3",
   "version": "3.11.7"
  }
 },
 "nbformat": 4,
 "nbformat_minor": 5
}
